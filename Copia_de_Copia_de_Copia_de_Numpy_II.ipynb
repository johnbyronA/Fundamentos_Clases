{
  "nbformat": 4,
  "nbformat_minor": 0,
  "metadata": {
    "colab": {
      "provenance": [],
      "include_colab_link": true
    },
    "kernelspec": {
      "name": "python3",
      "display_name": "Python 3"
    }
  },
  "cells": [
    {
      "cell_type": "markdown",
      "metadata": {
        "id": "view-in-github",
        "colab_type": "text"
      },
      "source": [
        "<a href=\"https://colab.research.google.com/github/johnbyronA/Fundamentos_Clases/blob/main/Copia_de_Copia_de_Copia_de_Numpy_II.ipynb\" target=\"_parent\"><img src=\"https://colab.research.google.com/assets/colab-badge.svg\" alt=\"Open In Colab\"/></a>"
      ]
    },
    {
      "cell_type": "markdown",
      "metadata": {
        "id": "TL2iIrOSr-vS"
      },
      "source": [
        "# **Concatenación de arreglos**\n",
        "\n",
        "\n",
        "La concatenación, o unión de dos arreglos en NumPy, se realiza principalmente a través de la función `concatenate`:"
      ]
    },
    {
      "cell_type": "code",
      "metadata": {
        "id": "30pTH355WHzt"
      },
      "source": [
        "l=[1,2,3]\n",
        "m=[4,5,6]"
      ],
      "execution_count": 6,
      "outputs": []
    },
    {
      "cell_type": "code",
      "metadata": {
        "id": "Uz_G-Xb4sBYh",
        "colab": {
          "base_uri": "https://localhost:8080/"
        },
        "outputId": "a786c04a-998f-4a55-b6ff-c771e404b5cc"
      },
      "source": [
        "l+m"
      ],
      "execution_count": 3,
      "outputs": [
        {
          "output_type": "execute_result",
          "data": {
            "text/plain": [
              "[1, 2, 3, 4, 5, 6]"
            ]
          },
          "metadata": {},
          "execution_count": 3
        }
      ]
    },
    {
      "cell_type": "markdown",
      "metadata": {
        "id": "zcNOU4kSsC1b"
      },
      "source": [
        "Podemos concatenar más de dos arreglos al tiempo:"
      ]
    },
    {
      "cell_type": "code",
      "metadata": {
        "id": "K7f86U0GsEIW",
        "colab": {
          "base_uri": "https://localhost:8080/"
        },
        "outputId": "555442a0-73a3-472b-822c-fe0abbcaa473"
      },
      "source": [
        "import numpy as np\n",
        "\n",
        "x=np.array(l)\n",
        "y=np.array(m)\n",
        "\n",
        "np.concatenate([x,y])"
      ],
      "execution_count": 7,
      "outputs": [
        {
          "output_type": "execute_result",
          "data": {
            "text/plain": [
              "array([1, 2, 3, 4, 5, 6])"
            ]
          },
          "metadata": {},
          "execution_count": 7
        }
      ]
    },
    {
      "cell_type": "code",
      "source": [
        "z=np.array([7,8,9])"
      ],
      "metadata": {
        "id": "7WWcFxgfVh4t"
      },
      "execution_count": 5,
      "outputs": []
    },
    {
      "cell_type": "markdown",
      "metadata": {
        "id": "VPqoXckzsGa-"
      },
      "source": [
        "`concatenate` también se puede usar para arreglos bidimensionales. Recuerde que las filas corresponden al eje 1 (axis = 1) y las columnas al eje 0 (axis = 0)\n",
        "\n",
        "\n",
        "<p><img alt=\"Colaboratory logo\" height=\"300px\" src=\"https://i.imgur.com/KYPgvhf.png\" align=\"left\" hspace=\"10px\" vspace=\"0px\"></p>"
      ]
    },
    {
      "cell_type": "code",
      "metadata": {
        "id": "rAFfAXkIsG96",
        "colab": {
          "base_uri": "https://localhost:8080/"
        },
        "outputId": "0a489ac2-7dfa-4daf-ee38-22029e7550e3"
      },
      "source": [
        "a = np.arange(8,14).reshape(3,2)\n",
        "a"
      ],
      "execution_count": 7,
      "outputs": [
        {
          "output_type": "execute_result",
          "data": {
            "text/plain": [
              "array([[ 8,  9],\n",
              "       [10, 11],\n",
              "       [12, 13]])"
            ]
          },
          "metadata": {},
          "execution_count": 7
        }
      ]
    },
    {
      "cell_type": "code",
      "metadata": {
        "id": "Q25jz3A3sSwA",
        "colab": {
          "base_uri": "https://localhost:8080/"
        },
        "outputId": "94664184-88ad-4082-9b6c-261a99d7e840"
      },
      "source": [
        "np.concatenate([a,a], axis=0)"
      ],
      "execution_count": 8,
      "outputs": [
        {
          "output_type": "execute_result",
          "data": {
            "text/plain": [
              "array([[ 8,  9],\n",
              "       [10, 11],\n",
              "       [12, 13],\n",
              "       [ 8,  9],\n",
              "       [10, 11],\n",
              "       [12, 13]])"
            ]
          },
          "metadata": {},
          "execution_count": 8
        }
      ]
    },
    {
      "cell_type": "markdown",
      "metadata": {
        "id": "RzHXLfyOsUvW"
      },
      "source": [
        "Si queremos realizar la concatenación a lo largo del eje 1, debemos especificar el eje por medio de un argumento por palabra clave:"
      ]
    },
    {
      "cell_type": "code",
      "metadata": {
        "id": "VLr5NQ4ksWXQ",
        "colab": {
          "base_uri": "https://localhost:8080/"
        },
        "outputId": "a75cccd9-a967-4388-8616-77abf5f178f1"
      },
      "source": [
        "np.concatenate([a,a], axis=1)"
      ],
      "execution_count": 9,
      "outputs": [
        {
          "output_type": "execute_result",
          "data": {
            "text/plain": [
              "array([[ 8,  9,  8,  9],\n",
              "       [10, 11, 10, 11],\n",
              "       [12, 13, 12, 13]])"
            ]
          },
          "metadata": {},
          "execution_count": 9
        }
      ]
    },
    {
      "cell_type": "markdown",
      "metadata": {
        "id": "MZE1_jAJsYle"
      },
      "source": [
        "La función `vstack()` es equivalente a la concatenación a lo largo del primer eje (axis=0). Al igual que `concatenate()`, recibe como argumento una secuencia de arreglos que, en este caso, deben tener la misma forma a lo largo de todos los ejes, excepto el primero. Los arreglos unidimensionales deben tener la misma longitud:"
      ]
    },
    {
      "cell_type": "code",
      "metadata": {
        "id": "ksN9Gjr3sZM_",
        "colab": {
          "base_uri": "https://localhost:8080/"
        },
        "outputId": "ac3dc06c-4f19-4194-d252-31b1a60c1531"
      },
      "source": [
        "# dimensiones mixtas\n",
        "a= np.array([1,2,3])\n",
        "b=np.arange(3,9).reshape(2,3)\n",
        "\n",
        "np.vstack([a,b])"
      ],
      "execution_count": 11,
      "outputs": [
        {
          "output_type": "execute_result",
          "data": {
            "text/plain": [
              "array([[1, 2, 3],\n",
              "       [3, 4, 5],\n",
              "       [6, 7, 8]])"
            ]
          },
          "metadata": {},
          "execution_count": 11
        }
      ]
    },
    {
      "cell_type": "code",
      "metadata": {
        "id": "x3_6Q_2FscYp",
        "colab": {
          "base_uri": "https://localhost:8080/"
        },
        "outputId": "166f9dda-fa7f-4ab2-a04a-60fd172ab5a5"
      },
      "source": [
        "a=np.array([[1],[2]])\n",
        "b=np.array([[4],[5],[6]])\n",
        "np.vstack([a,b])"
      ],
      "execution_count": 13,
      "outputs": [
        {
          "output_type": "execute_result",
          "data": {
            "text/plain": [
              "array([[1],\n",
              "       [2],\n",
              "       [4],\n",
              "       [5],\n",
              "       [6]])"
            ]
          },
          "metadata": {},
          "execution_count": 13
        }
      ]
    },
    {
      "cell_type": "code",
      "metadata": {
        "id": "Nt3cnr7Sseuw",
        "colab": {
          "base_uri": "https://localhost:8080/"
        },
        "outputId": "3da000a8-e8d0-4936-d952-fa0e4edeb2e5"
      },
      "source": [
        "#No se puede hacer si presentan dimensionalidad diferente\n",
        "a=np.array([1,2,3])\n",
        "b=np.arange(3,9).reshape(3,2)\n",
        "\n",
        "try:\n",
        "  np.vstack([a,b])\n",
        "except Exception as e:\n",
        "  print(e)\n",
        "\n",
        "print(\"hola mundo\")"
      ],
      "execution_count": 16,
      "outputs": [
        {
          "output_type": "stream",
          "name": "stdout",
          "text": [
            "all the input array dimensions for the concatenation axis must match exactly, but along dimension 1, the array at index 0 has size 3 and the array at index 1 has size 2\n",
            "hola mundo\n"
          ]
        }
      ]
    },
    {
      "cell_type": "markdown",
      "metadata": {
        "id": "rNg0TU0asy7E"
      },
      "source": [
        "Similarmente, la función `hstack()` realiza una concatenación a lo largo del segundo eje (axis=1), y los arreglos que toma como argumento deben coincidir en la forma a lo largo de este eje. Los arreglos unidimensionales pueden ser de cualquier longitud"
      ]
    },
    {
      "cell_type": "code",
      "metadata": {
        "id": "KF_CvPe0s0n7",
        "colab": {
          "base_uri": "https://localhost:8080/"
        },
        "outputId": "87146a6f-7e60-4613-ca4a-ad798a5dda71"
      },
      "source": [
        "#dimensiones mixtas\n",
        "a=np.array([[1,2],[3,4]])\n",
        "b=np.arange(5,11).reshape(2,3)\n",
        "\n",
        "np.hstack([a,b])"
      ],
      "execution_count": 19,
      "outputs": [
        {
          "output_type": "execute_result",
          "data": {
            "text/plain": [
              "array([[ 1,  2,  5,  6,  7],\n",
              "       [ 3,  4,  8,  9, 10]])"
            ]
          },
          "metadata": {},
          "execution_count": 19
        }
      ]
    },
    {
      "cell_type": "code",
      "metadata": {
        "id": "rX6Xkep0s26E"
      },
      "source": [
        "#arreglos unidimensionales\n"
      ],
      "execution_count": null,
      "outputs": []
    },
    {
      "cell_type": "markdown",
      "metadata": {
        "id": "5OoDp82DSLz7"
      },
      "source": [
        "<p><a name=\"ind\"></a></p>\n",
        "\n",
        "# **Indexación y segmentación**\n",
        "\n",
        "Los arreglos de NumPy tienen la misma semántica de indexación y segmentación que las listas de Python cuando se trata de acceder a elementos o subarreglos.\n",
        "\n",
        "\n"
      ]
    },
    {
      "cell_type": "code",
      "metadata": {
        "id": "_2_lSiHvR999",
        "colab": {
          "base_uri": "https://localhost:8080/"
        },
        "outputId": "ed9ef4d5-be32-4828-dfb9-b9d019faf4d1"
      },
      "source": [
        "a = np.arange(12)\n",
        "\n",
        "print(f\"a: {a}\")\n",
        "print()\n",
        "print(f\"a[3]: {a[3]}\")\n",
        "print()\n",
        "print(f\"a[2:6]: {a[2:8:3]}\")"
      ],
      "execution_count": 20,
      "outputs": [
        {
          "output_type": "stream",
          "name": "stdout",
          "text": [
            "a: [ 0  1  2  3  4  5  6  7  8  9 10 11]\n",
            "\n",
            "a[3]: 3\n",
            "\n",
            "a[2:6]: [2 5]\n"
          ]
        }
      ]
    },
    {
      "cell_type": "markdown",
      "metadata": {
        "id": "-3pHD5tKTCLn"
      },
      "source": [
        "Debido a que los arreglos de NumPy son n-dimensionales, podemos segmentar a lo largo de todos y cada uno de los ejes. Consideremos la siguiente lista de listas en Python"
      ]
    },
    {
      "cell_type": "code",
      "metadata": {
        "id": "1ytHY5PwTD4f"
      },
      "source": [
        "# definiendo una lista de listas de forma (3,3)\n",
        "L = [[1, 2, 3], [4, 5, 6], [7, 8, 9]]"
      ],
      "execution_count": 22,
      "outputs": []
    },
    {
      "cell_type": "markdown",
      "metadata": {
        "id": "8z8_19cnTGlH"
      },
      "source": [
        "Por ejemplo, si queremos crear una lista de Python que contenga todas las filas y las primeras dos columnas de la lista L podríamos escribir"
      ]
    },
    {
      "cell_type": "code",
      "metadata": {
        "id": "Qjkk0-MdTI6U",
        "colab": {
          "base_uri": "https://localhost:8080/"
        },
        "outputId": "78886b04-0cf4-49f5-c92c-41b86d076782"
      },
      "source": [
        "l_arr=np.array(L)\n",
        "L"
      ],
      "execution_count": 24,
      "outputs": [
        {
          "output_type": "execute_result",
          "data": {
            "text/plain": [
              "[[1, 2, 3], [4, 5, 6], [7, 8, 9]]"
            ]
          },
          "metadata": {},
          "execution_count": 24
        }
      ]
    },
    {
      "cell_type": "code",
      "source": [
        "for fila in L:\n",
        "  print(fila[:2])"
      ],
      "metadata": {
        "id": "VHY1W7_OZSb6"
      },
      "execution_count": null,
      "outputs": []
    },
    {
      "cell_type": "markdown",
      "metadata": {
        "id": "8_atGVc5TM__"
      },
      "source": [
        "El número de ciclos `for` anidados que se necesita para segmentar listas de listas es igual al número de dimensiones menos uno (en este caso $2-1=1$).\n",
        "\n",
        "En NumPy, en lugar de indexar por un segmento, podemos indexar por una tupla de segmentos, cada uno de los cuales actúa en sus propias dimensiones. Definamos el arreglo `L` con NumPy y realicemos la segmentación anterior:\n"
      ]
    },
    {
      "cell_type": "code",
      "metadata": {
        "id": "kqTeXNAuTNjD",
        "colab": {
          "base_uri": "https://localhost:8080/"
        },
        "outputId": "13824cda-4738-4e44-890a-f03508ea78bd"
      },
      "source": [
        "l_arr[:,:2]"
      ],
      "execution_count": 25,
      "outputs": [
        {
          "output_type": "execute_result",
          "data": {
            "text/plain": [
              "array([[1, 2],\n",
              "       [4, 5],\n",
              "       [7, 8]])"
            ]
          },
          "metadata": {},
          "execution_count": 25
        }
      ]
    },
    {
      "cell_type": "code",
      "metadata": {
        "id": "i2A0j-1GTO7t"
      },
      "source": [],
      "execution_count": null,
      "outputs": []
    },
    {
      "cell_type": "markdown",
      "metadata": {
        "id": "1Yn9MMLfTkv2"
      },
      "source": [
        "Los ciclos `for` para la segmentación multidimensional son manejados implícitamente por NumPy. Esto hace que realizar segmentaciones complejas sea mucho más rápido que escribir los ciclos `for` explícitamente en Python. Veamos algunos ejemplos:"
      ]
    },
    {
      "cell_type": "code",
      "metadata": {
        "id": "_FI0H0UrTRUm"
      },
      "source": [
        "#creamos un arreglo de dimensiones 4x4\n",
        "a=np.arange(16).reshape(4,4)"
      ],
      "execution_count": 26,
      "outputs": []
    },
    {
      "cell_type": "code",
      "metadata": {
        "id": "CpT39DIrTpYJ",
        "colab": {
          "base_uri": "https://localhost:8080/"
        },
        "outputId": "00669cf2-1fc9-49c1-f8a1-717ab88e2253"
      },
      "source": [
        "#seleccionar la primer fila (equivalente a a[0,:])\n",
        "a[0,:]"
      ],
      "execution_count": 27,
      "outputs": [
        {
          "output_type": "execute_result",
          "data": {
            "text/plain": [
              "array([0, 1, 2, 3])"
            ]
          },
          "metadata": {},
          "execution_count": 27
        }
      ]
    },
    {
      "cell_type": "code",
      "metadata": {
        "id": "Th1ugrBuTqzE",
        "colab": {
          "base_uri": "https://localhost:8080/"
        },
        "outputId": "0a6b6820-32ec-4fee-b62f-b83a0c745cb1"
      },
      "source": [
        "# seleccionar la primera columna\n",
        "a[:,0]"
      ],
      "execution_count": 28,
      "outputs": [
        {
          "output_type": "execute_result",
          "data": {
            "text/plain": [
              "array([ 0,  4,  8, 12])"
            ]
          },
          "metadata": {},
          "execution_count": 28
        }
      ]
    },
    {
      "cell_type": "code",
      "metadata": {
        "id": "2StElYzbTrzk",
        "colab": {
          "base_uri": "https://localhost:8080/"
        },
        "outputId": "4edd572f-67cd-4967-e666-afd8b6fc120f"
      },
      "source": [
        "#segmentar las filas pares y las columnas impares.\n",
        "a[::2,1::2]"
      ],
      "execution_count": 30,
      "outputs": [
        {
          "output_type": "execute_result",
          "data": {
            "text/plain": [
              "array([[ 1,  3],\n",
              "       [ 9, 11]])"
            ]
          },
          "metadata": {},
          "execution_count": 30
        }
      ]
    },
    {
      "cell_type": "code",
      "metadata": {
        "id": "eLuGgkGjTs8S",
        "colab": {
          "base_uri": "https://localhost:8080/"
        },
        "outputId": "88934fa4-a77c-425e-8f9f-4b9603091c66"
      },
      "source": [
        "#segmentar la matriz interna de 2x2.\n",
        "a[1:3,1:3]"
      ],
      "execution_count": 32,
      "outputs": [
        {
          "output_type": "execute_result",
          "data": {
            "text/plain": [
              "array([[ 5,  6],\n",
              "       [ 9, 10]])"
            ]
          },
          "metadata": {},
          "execution_count": 32
        }
      ]
    },
    {
      "cell_type": "code",
      "metadata": {
        "id": "2jad8UutTueC",
        "colab": {
          "base_uri": "https://localhost:8080/"
        },
        "outputId": "baa67ccf-7c9e-493b-8e62-877cd66dc0f1"
      },
      "source": [
        "#invertir las primeras 3 filas, tomando las primeras 3 columnas\n",
        "a[2::-1,:3]"
      ],
      "execution_count": 44,
      "outputs": [
        {
          "output_type": "execute_result",
          "data": {
            "text/plain": [
              "array([[ 8,  9, 10],\n",
              "       [ 4,  5,  6],\n",
              "       [ 0,  1,  2]])"
            ]
          },
          "metadata": {},
          "execution_count": 44
        }
      ]
    },
    {
      "cell_type": "markdown",
      "metadata": {
        "id": "yEZpoKy_U9on"
      },
      "source": [
        "**Ejercicio 1**: Escriba un programa para crear un nuevo arreglo que sea el promedio de cada triplete consecutivo de elementos del siguiente arreglo\n",
        "\n",
        "<p><img alt=\"Colaboratory logo\" height=\"70px\" src=\"https://i.imgur.com/XoHovZd.png\" align=\"left\" hspace=\"10px\" vspace=\"0px\"></p>"
      ]
    },
    {
      "cell_type": "code",
      "source": [
        "a= np.array([[1,2,3],[2,4,6],[1,2,12],[0,-12,6]])\n",
        "b= np.mean(a[0])\n",
        "c= np.mean(a[1])\n",
        "d= np.mean(a[2])\n",
        "e= np.mean(a[3])\n",
        "print(b)\n",
        "print(c)\n",
        "print(d)\n",
        "print(e)"
      ],
      "metadata": {
        "colab": {
          "base_uri": "https://localhost:8080/"
        },
        "id": "4AeLTJNMcubi",
        "outputId": "049f6305-14ba-4635-b7c5-fc1260a70bf5"
      },
      "execution_count": 64,
      "outputs": [
        {
          "output_type": "stream",
          "name": "stdout",
          "text": [
            "2.0\n",
            "4.0\n",
            "5.0\n",
            "-2.0\n"
          ]
        }
      ]
    },
    {
      "cell_type": "code",
      "metadata": {
        "id": "QNCPB_Y-VAui",
        "colab": {
          "base_uri": "https://localhost:8080/"
        },
        "outputId": "74c34347-38d0-4e8a-8e74-08eaa4f9cd7c"
      },
      "source": [
        "a = [1,2,3,2,4,6,1,2,12,0,-12,6]\n",
        "arr=np.array(a).reshape(4,3)\n",
        "np.mean(arr,axis=1)"
      ],
      "execution_count": 63,
      "outputs": [
        {
          "output_type": "execute_result",
          "data": {
            "text/plain": [
              "array([ 2.,  4.,  5., -2.])"
            ]
          },
          "metadata": {},
          "execution_count": 63
        }
      ]
    },
    {
      "cell_type": "code",
      "metadata": {
        "id": "uAYPhMAITuB4"
      },
      "source": [],
      "execution_count": null,
      "outputs": []
    },
    {
      "cell_type": "markdown",
      "metadata": {
        "id": "H_gSDAOvUPOO"
      },
      "source": [
        "<p><a name=\"enm\"></a></p>\n",
        "\n",
        "## **Enmascaramiento**\n",
        "\n",
        "El enmascaramiento aparece cuando deseamos extraer, modificar, o manipular valores en un arreglo de acuerdo con algún criterio.\n",
        "\n",
        "Ya vimos cómo utilizar ufuncs para operaciones aritméticas básicas y otro tipo de operaciones más complejas. NumPy implementa también operadores de comparación como ufuncs:"
      ]
    },
    {
      "cell_type": "code",
      "metadata": {
        "id": "VVuxGalrTvjC",
        "colab": {
          "base_uri": "https://localhost:8080/"
        },
        "outputId": "75e37e55-1b9c-4c34-9c66-a69803338afd"
      },
      "source": [
        "x = np.arange(0,9).reshape(3,3)\n",
        "x"
      ],
      "execution_count": 8,
      "outputs": [
        {
          "output_type": "execute_result",
          "data": {
            "text/plain": [
              "array([[0, 1, 2],\n",
              "       [3, 4, 5],\n",
              "       [6, 7, 8]])"
            ]
          },
          "metadata": {},
          "execution_count": 8
        }
      ]
    },
    {
      "cell_type": "code",
      "metadata": {
        "id": "sWHELIYFUaZ8",
        "colab": {
          "base_uri": "https://localhost:8080/"
        },
        "outputId": "9b0c6764-5573-40bd-8381-a1876e04414a"
      },
      "source": [
        "x<5"
      ],
      "execution_count": 9,
      "outputs": [
        {
          "output_type": "execute_result",
          "data": {
            "text/plain": [
              "array([[ True,  True,  True],\n",
              "       [ True,  True, False],\n",
              "       [False, False, False]])"
            ]
          },
          "metadata": {},
          "execution_count": 9
        }
      ]
    },
    {
      "cell_type": "markdown",
      "metadata": {
        "id": "vXHEYVLkUeBa"
      },
      "source": [
        "El resultado es un arreglo booleano. Dado un arreglo booleano, hay una serie de operaciones útiles que podemos implementar.\n",
        "\n",
        "Podemos utilizar la función `np.sum` junto con los operadores de comparación para realizar conteos dentro del arreglo:"
      ]
    },
    {
      "cell_type": "code",
      "metadata": {
        "id": "uozlXFWHUcdX",
        "colab": {
          "base_uri": "https://localhost:8080/"
        },
        "outputId": "b039b30d-b3e4-4457-b433-6b1eb7677fb8"
      },
      "source": [
        "# numero de elementos menores a 5\n",
        "np.sum(x<5)"
      ],
      "execution_count": 11,
      "outputs": [
        {
          "output_type": "execute_result",
          "data": {
            "text/plain": [
              "5"
            ]
          },
          "metadata": {},
          "execution_count": 11
        }
      ]
    },
    {
      "cell_type": "code",
      "source": [
        "np.sum(x[x<5])"
      ],
      "metadata": {
        "colab": {
          "base_uri": "https://localhost:8080/"
        },
        "id": "ljmNcQjIgXYH",
        "outputId": "f75ac8b0-199e-4086-cbb0-9591974aab3d"
      },
      "execution_count": 13,
      "outputs": [
        {
          "output_type": "execute_result",
          "data": {
            "text/plain": [
              "10"
            ]
          },
          "metadata": {},
          "execution_count": 13
        }
      ]
    },
    {
      "cell_type": "code",
      "source": [
        "x"
      ],
      "metadata": {
        "colab": {
          "base_uri": "https://localhost:8080/"
        },
        "id": "lR_QTuKfghLu",
        "outputId": "aae5b730-5a4e-448a-b326-fe658745bd30"
      },
      "execution_count": 14,
      "outputs": [
        {
          "output_type": "execute_result",
          "data": {
            "text/plain": [
              "array([[0, 1, 2],\n",
              "       [3, 4, 5],\n",
              "       [6, 7, 8]])"
            ]
          },
          "metadata": {},
          "execution_count": 14
        }
      ]
    },
    {
      "cell_type": "markdown",
      "metadata": {
        "id": "oVPqEJ-JUhso"
      },
      "source": [
        "Con `np.sum` podemos realizar este tipo de conteos a lo largo de las filas o columnas, utilizando el argumento por palabra clave `axis`:"
      ]
    },
    {
      "cell_type": "code",
      "metadata": {
        "id": "04aIRcFfUhQX",
        "colab": {
          "base_uri": "https://localhost:8080/"
        },
        "outputId": "6d5ab3ea-6c11-49be-be12-2cf5b40acf8a"
      },
      "source": [
        "# numero de elementos menores a 6 por columna\n",
        "np.sum(x<5,axis=0)"
      ],
      "execution_count": 15,
      "outputs": [
        {
          "output_type": "execute_result",
          "data": {
            "text/plain": [
              "array([3, 2, 0])"
            ]
          },
          "metadata": {},
          "execution_count": 15
        }
      ]
    },
    {
      "cell_type": "code",
      "metadata": {
        "id": "QHUMFUXRUjnx"
      },
      "source": [
        "# numero de elementos menores a 6 por fila\n",
        "np.sum(x<5,axis=1)"
      ],
      "execution_count": null,
      "outputs": []
    },
    {
      "cell_type": "markdown",
      "metadata": {
        "id": "C-t07HoyUl_p"
      },
      "source": [
        "Podemos también tener múltiples condiciones en un conteo, utilizando los operadores lógicos `&` (and) y `|` (or)"
      ]
    },
    {
      "cell_type": "code",
      "metadata": {
        "id": "prKpmML_UkpK",
        "colab": {
          "base_uri": "https://localhost:8080/"
        },
        "outputId": "ea061722-c6f9-4467-bc20-ac990541a427"
      },
      "source": [
        "# verdadero si ambos verdaderos\n",
        "np.sum((x>1)&(x<5))"
      ],
      "execution_count": 16,
      "outputs": [
        {
          "output_type": "execute_result",
          "data": {
            "text/plain": [
              "3"
            ]
          },
          "metadata": {},
          "execution_count": 16
        }
      ]
    },
    {
      "cell_type": "code",
      "metadata": {
        "id": "0U2206s0UpKm",
        "colab": {
          "base_uri": "https://localhost:8080/"
        },
        "outputId": "b33aa411-0518-435d-8abc-e68611cf30c6"
      },
      "source": [
        "# verdadero en caso en que alguno de los dos sea verdadero\n",
        "np.sum((x<1)|(x>5))"
      ],
      "execution_count": 18,
      "outputs": [
        {
          "output_type": "execute_result",
          "data": {
            "text/plain": [
              "4"
            ]
          },
          "metadata": {},
          "execution_count": 18
        }
      ]
    },
    {
      "cell_type": "markdown",
      "metadata": {
        "id": "jjAJOIelUt2w"
      },
      "source": [
        "Una herramienta muy poderosa es usar los arreglos booleanos como máscaras, para seleccionar subconjuntos particulares de los datos mismos.\n",
        "\n",
        "Volviendo a nuestra arreglo `x` anterior, supongamos que queremos un arreglo de todos los valores en `x` que sean menores que, digamos, 5. Para seleccionar estos valores del arreglo, simplemente podemos indexar con este arreglo booleano; esto se conoce como una operación de enmascaramiento:"
      ]
    },
    {
      "cell_type": "code",
      "metadata": {
        "id": "6qgYD78ZZg-9",
        "colab": {
          "base_uri": "https://localhost:8080/"
        },
        "outputId": "8a06ed39-2b3d-4a1b-bd8a-8de3c7631e58"
      },
      "source": [
        "x[x<5]"
      ],
      "execution_count": 19,
      "outputs": [
        {
          "output_type": "execute_result",
          "data": {
            "text/plain": [
              "array([0, 1, 2, 3, 4])"
            ]
          },
          "metadata": {},
          "execution_count": 19
        }
      ]
    },
    {
      "cell_type": "code",
      "metadata": {
        "id": "dSUH38jQZvw7"
      },
      "source": [],
      "execution_count": null,
      "outputs": []
    },
    {
      "cell_type": "code",
      "metadata": {
        "id": "-liexEjCUpxO"
      },
      "source": [],
      "execution_count": null,
      "outputs": []
    },
    {
      "cell_type": "markdown",
      "metadata": {
        "id": "nA9nv0TWUxCI"
      },
      "source": [
        "Lo que se devuelve es un arreglo unidimensional con todos los valores que cumplen la condición; en otras palabras, todos los valores en las posiciones en las que el arreglo de máscara es `True`."
      ]
    },
    {
      "cell_type": "markdown",
      "metadata": {
        "id": "CyRtn9p6n4jl"
      },
      "source": [
        "**Ejercicio 2:** Escriba una función que, dado un número entero `n`, muestre:\n",
        "\n",
        "* Un arreglo con los primeros números pares hasta `n`.\n",
        "* Un arreglo con los primeros números múltiplos de tres hasta `n`."
      ]
    },
    {
      "cell_type": "code",
      "metadata": {
        "id": "jrEWPzNZn4C3"
      },
      "source": [],
      "execution_count": null,
      "outputs": []
    },
    {
      "cell_type": "markdown",
      "metadata": {
        "id": "1W5g7B-kUzzY"
      },
      "source": [
        "**Ejercicio 3:** Escribir un programa que lea `n` números enteros, calcule y muestre la suma de los pares y el producto de los impares."
      ]
    },
    {
      "cell_type": "code",
      "metadata": {
        "id": "Tnr_GC3AdgwV",
        "colab": {
          "base_uri": "https://localhost:8080/"
        },
        "outputId": "6aed4131-75d3-44a3-c469-868586636e45"
      },
      "source": [
        "def leer_enteros(n):\n",
        "  arr=np.arange(n)\n",
        "  pares=arr[arr%2 == 0]\n",
        "  impares=arr[arr%3 == 0]\n",
        "  return pares,impares\n",
        "\n",
        "leer_enteros(10)"
      ],
      "execution_count": 36,
      "outputs": [
        {
          "output_type": "execute_result",
          "data": {
            "text/plain": [
              "(array([0, 2, 4, 6, 8]), array([0, 3, 6, 9]))"
            ]
          },
          "metadata": {},
          "execution_count": 36
        }
      ]
    },
    {
      "cell_type": "code",
      "metadata": {
        "id": "XlTLY7TUaEJP"
      },
      "source": [
        "\n"
      ],
      "execution_count": null,
      "outputs": []
    },
    {
      "cell_type": "code",
      "metadata": {
        "id": "7I65RO5YUvlo"
      },
      "source": [],
      "execution_count": null,
      "outputs": []
    },
    {
      "cell_type": "markdown",
      "metadata": {
        "id": "hLAwh9cHWewl"
      },
      "source": [
        "<p><a name=\"sof\"></a></p>\n",
        "\n",
        "# **Indexación sofisticada**\n",
        "\n",
        "Anteriormente vimos cómo acceder y modificar porciones de arreglos usando índices simples (por ejemplo, `arr[0]`), segmentos (por ejemplo, `arr[: 5]`) y máscaras booleanas (por ejemplo, `arr[arr> 0]`). Veremos ahora otro estilo de indexación de arreglos, conocido como *indexación sofisticada*, la cual nos permite acceder y modificar muy rápidamente subconjuntos complicados de los valores de un arreglo.\n",
        "\n",
        "La indexación sofisticada es conceptualmente simple: significa pasar una lista de índices en lugar de un entero, para acceder a múltiples elementos del arreglo a la vez. Veamos un ejemplo:"
      ]
    },
    {
      "cell_type": "code",
      "metadata": {
        "id": "7jlRBNX1WoKL",
        "colab": {
          "base_uri": "https://localhost:8080/"
        },
        "outputId": "6e2a697d-a253-4637-dd80-10cadf7ef11c"
      },
      "source": [
        "a = np.arange(10,20)\n",
        "a"
      ],
      "execution_count": 38,
      "outputs": [
        {
          "output_type": "execute_result",
          "data": {
            "text/plain": [
              "array([10, 11, 12, 13, 14, 15, 16, 17, 18, 19])"
            ]
          },
          "metadata": {},
          "execution_count": 38
        }
      ]
    },
    {
      "cell_type": "code",
      "metadata": {
        "id": "6xTl6MX0Wt1a",
        "colab": {
          "base_uri": "https://localhost:8080/"
        },
        "outputId": "05dc71aa-6a12-4a1d-d929-ba2471874fd3"
      },
      "source": [
        "print(a[0],a[4],a[6])"
      ],
      "execution_count": 39,
      "outputs": [
        {
          "output_type": "stream",
          "name": "stdout",
          "text": [
            "10 14 16\n"
          ]
        }
      ]
    },
    {
      "cell_type": "code",
      "metadata": {
        "id": "L_2zmfWBWvQ_",
        "colab": {
          "base_uri": "https://localhost:8080/"
        },
        "outputId": "64c68466-7e3e-473b-ded8-5c24769f30c8"
      },
      "source": [
        "indices=[0,4,6]\n",
        "a[indices]"
      ],
      "execution_count": 40,
      "outputs": [
        {
          "output_type": "execute_result",
          "data": {
            "text/plain": [
              "array([10, 14, 16])"
            ]
          },
          "metadata": {},
          "execution_count": 40
        }
      ]
    },
    {
      "cell_type": "markdown",
      "metadata": {
        "id": "ZO2EuXhtWz7J"
      },
      "source": [
        "Con el indexado sofisticado, la forma del resultado refleja la forma del arreglo de índices más que la forma del arreglo que se está indexando:"
      ]
    },
    {
      "cell_type": "code",
      "metadata": {
        "id": "nOAWL1uxWxnA",
        "colab": {
          "base_uri": "https://localhost:8080/"
        },
        "outputId": "379cb34b-5749-414b-e03a-9dbada72804a"
      },
      "source": [
        "a=np.arange(0,91,10)\n",
        "a"
      ],
      "execution_count": 41,
      "outputs": [
        {
          "output_type": "execute_result",
          "data": {
            "text/plain": [
              "array([ 0, 10, 20, 30, 40, 50, 60, 70, 80, 90])"
            ]
          },
          "metadata": {},
          "execution_count": 41
        }
      ]
    },
    {
      "cell_type": "code",
      "metadata": {
        "id": "nyPpXUySW1sX",
        "colab": {
          "base_uri": "https://localhost:8080/"
        },
        "outputId": "d0669dff-3e3f-436d-a4d0-f05153bcbb49"
      },
      "source": [
        "# creamos arreglo de indices con forma (2,2)\n",
        "indi=np.array([[3,7],[4,9]])\n",
        "a[indi]"
      ],
      "execution_count": 44,
      "outputs": [
        {
          "output_type": "execute_result",
          "data": {
            "text/plain": [
              "array([[30, 70],\n",
              "       [40, 90]])"
            ]
          },
          "metadata": {},
          "execution_count": 44
        }
      ]
    },
    {
      "cell_type": "markdown",
      "metadata": {
        "id": "xDL95LxEW9Ga"
      },
      "source": [
        "El indexado sofisticado funciona también en múltiples dimensiones. Veámoslo en el siguiente ejemplo:"
      ]
    },
    {
      "cell_type": "code",
      "metadata": {
        "id": "gxoO0ii-W3MX",
        "colab": {
          "base_uri": "https://localhost:8080/"
        },
        "outputId": "40920f6c-911d-475c-9aaf-91663d5a1d0f"
      },
      "source": [
        "a=np.arange(12).reshape(3,4)\n",
        "a"
      ],
      "execution_count": 45,
      "outputs": [
        {
          "output_type": "execute_result",
          "data": {
            "text/plain": [
              "array([[ 0,  1,  2,  3],\n",
              "       [ 4,  5,  6,  7],\n",
              "       [ 8,  9, 10, 11]])"
            ]
          },
          "metadata": {},
          "execution_count": 45
        }
      ]
    },
    {
      "cell_type": "markdown",
      "metadata": {
        "id": "qjcf6cTeXEQj"
      },
      "source": [
        "Como en la indexación estándar, el primer índice hace referencia a las filas y el segundo a las columnas:"
      ]
    },
    {
      "cell_type": "code",
      "metadata": {
        "id": "pDNq6310XC3k",
        "colab": {
          "base_uri": "https://localhost:8080/"
        },
        "outputId": "807a97d6-87d1-4851-f6fd-5094305159d3"
      },
      "source": [
        "fila =[0,1,2]\n",
        "colu=[2,1,3]\n",
        "\n",
        "a[fila,colu]\n"
      ],
      "execution_count": 46,
      "outputs": [
        {
          "output_type": "execute_result",
          "data": {
            "text/plain": [
              "array([ 2,  5, 11])"
            ]
          },
          "metadata": {},
          "execution_count": 46
        }
      ]
    },
    {
      "cell_type": "markdown",
      "metadata": {
        "id": "svQbapXQXNwa"
      },
      "source": [
        "Los valores el en arreglo corresponden a `a[0,2]`, `a[1,1]` y `a[2,3]` respectivamente."
      ]
    }
  ]
}